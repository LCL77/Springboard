{
 "cells": [
  {
   "cell_type": "markdown",
   "metadata": {},
   "source": [
    "# Capstone 3\n",
    "\n",
    "Sheet 1. \n",
    "1. Data Wrangling- Analyzed trends in Reddit WallStreetBets Posts\n",
    "Sheet 2. \n",
    "2. NLP of posts/ 3. Converting Emoji's to meanings\n",
    "Sheet 3. \n",
    "4. Predict stock movement/ 5. Visualizing The Stock Data\n",
    "4. Modeling\n",
    "5. Sentiment analysis/ Predict stock movement based on sentiment/ logistic modeling\n",
    "\n",
    "Analyzed trends in Reddit WallStreetBets Posts, to predict trends and stock picks. Specifically historical stock data for  Google, Gold, AMC, Bitcoin, GameStop. Used unsupervised data, Natural Language Processing, sentiment analysis, topic modeling, Tableau, and Web Scraping. \n",
    "\n",
    "created a predicive model that predicts whether a stock will go up or down. A classfication model that specifies where the movement is up or down. label encoder sentiment words into numbers to predict up or down- run through any classficiation model\n",
    "\n",
    "Create a new dataframe, with columns; make time of post, put price, day, and sentiment, and compare sentiment on one row and price on another row. We're looking to see which words affect which stock goes up and which goes down. \n",
    "\n",
    "Predict, error/ loss, train — do for all projects"
   ]
  },
  {
   "cell_type": "code",
   "execution_count": 3,
   "metadata": {},
   "outputs": [
    {
     "name": "stdout",
     "output_type": "stream",
     "text": [
      "C:\\dev\\python.exe\n"
     ]
    }
   ],
   "source": [
    "#had to install worldcloud\n",
    "import sys\n",
    "print(sys.executable)"
   ]
  },
  {
   "cell_type": "code",
   "execution_count": 1,
   "metadata": {},
   "outputs": [
    {
     "name": "stderr",
     "output_type": "stream",
     "text": [
      "C:\\dev\\lib\\site-packages\\nltk\\twitter\\__init__.py:20: UserWarning: The twython library has not been installed. Some functionality from the twitter package will not be available.\n",
      "  warnings.warn(\"The twython library has not been installed. \"\n"
     ]
    }
   ],
   "source": [
    "#Install packages \n",
    "\n",
    "import numpy as np\n",
    "import pandas as pd\n",
    "import matplotlib.pyplot as plt\n",
    "import seaborn as sns\n",
    "from wordcloud import WordCloud, STOPWORDS, ImageColorGenerator\n",
    "from nltk.corpus import stopwords\n",
    "from nltk.sentiment import SentimentAnalyzer\n",
    "from nltk.corpus import subjectivity\n",
    "from nltk.sentiment.vader import SentimentIntensityAnalyzer\n",
    "from nltk.sentiment.util import *\n",
    "import string\n",
    "%matplotlib inline\n",
    "import nltk\n",
    "from nltk.stem import WordNetLemmatizer \n",
    "import matplotlib.ticker as ticker\n",
    "\n",
    "wall = pd.read_csv('reddit_wsb.csv')"
   ]
  },
  {
   "cell_type": "code",
   "execution_count": 3,
   "metadata": {
    "scrolled": true
   },
   "outputs": [
    {
     "name": "stdout",
     "output_type": "stream",
     "text": [
      "[nltk_data] Downloading package wordnet to C:\\Users\\Allegra\n",
      "[nltk_data]     Grunberg\\AppData\\Roaming\\nltk_data...\n",
      "[nltk_data]   Package wordnet is already up-to-date!\n",
      "[nltk_data] Downloading package punkt to C:\\Users\\Allegra\n",
      "[nltk_data]     Grunberg\\AppData\\Roaming\\nltk_data...\n",
      "[nltk_data]   Package punkt is already up-to-date!\n"
     ]
    },
    {
     "data": {
      "text/plain": [
       "True"
      ]
     },
     "execution_count": 3,
     "metadata": {},
     "output_type": "execute_result"
    }
   ],
   "source": [
    "import nltk\n",
    "nltk.download('wordnet')\n",
    "import nltk\n",
    "nltk.download('punkt')"
   ]
  },
  {
   "cell_type": "markdown",
   "metadata": {},
   "source": [
    "# Data Wrangling"
   ]
  },
  {
   "cell_type": "code",
   "execution_count": 6,
   "metadata": {},
   "outputs": [
    {
     "data": {
      "text/html": [
       "<div>\n",
       "<style scoped>\n",
       "    .dataframe tbody tr th:only-of-type {\n",
       "        vertical-align: middle;\n",
       "    }\n",
       "\n",
       "    .dataframe tbody tr th {\n",
       "        vertical-align: top;\n",
       "    }\n",
       "\n",
       "    .dataframe thead th {\n",
       "        text-align: right;\n",
       "    }\n",
       "</style>\n",
       "<table border=\"1\" class=\"dataframe\">\n",
       "  <thead>\n",
       "    <tr style=\"text-align: right;\">\n",
       "      <th></th>\n",
       "      <th>title</th>\n",
       "      <th>score</th>\n",
       "      <th>id</th>\n",
       "      <th>url</th>\n",
       "      <th>comms_num</th>\n",
       "      <th>created</th>\n",
       "      <th>body</th>\n",
       "      <th>timestamp</th>\n",
       "    </tr>\n",
       "  </thead>\n",
       "  <tbody>\n",
       "    <tr>\n",
       "      <th>0</th>\n",
       "      <td>It's not about the money, it's about sending a...</td>\n",
       "      <td>55</td>\n",
       "      <td>l6ulcx</td>\n",
       "      <td>https://v.redd.it/6j75regs72e61</td>\n",
       "      <td>6</td>\n",
       "      <td>1.611863e+09</td>\n",
       "      <td>NaN</td>\n",
       "      <td>2021-01-28 21:37:41</td>\n",
       "    </tr>\n",
       "    <tr>\n",
       "      <th>1</th>\n",
       "      <td>Math Professor Scott Steiner says the numbers ...</td>\n",
       "      <td>110</td>\n",
       "      <td>l6uibd</td>\n",
       "      <td>https://v.redd.it/ah50lyny62e61</td>\n",
       "      <td>23</td>\n",
       "      <td>1.611862e+09</td>\n",
       "      <td>NaN</td>\n",
       "      <td>2021-01-28 21:32:10</td>\n",
       "    </tr>\n",
       "    <tr>\n",
       "      <th>2</th>\n",
       "      <td>Exit the system</td>\n",
       "      <td>0</td>\n",
       "      <td>l6uhhn</td>\n",
       "      <td>https://www.reddit.com/r/wallstreetbets/commen...</td>\n",
       "      <td>47</td>\n",
       "      <td>1.611862e+09</td>\n",
       "      <td>The CEO of NASDAQ pushed to halt trading “to g...</td>\n",
       "      <td>2021-01-28 21:30:35</td>\n",
       "    </tr>\n",
       "    <tr>\n",
       "      <th>3</th>\n",
       "      <td>NEW SEC FILING FOR GME! CAN SOMEONE LESS RETAR...</td>\n",
       "      <td>29</td>\n",
       "      <td>l6ugk6</td>\n",
       "      <td>https://sec.report/Document/0001193125-21-019848/</td>\n",
       "      <td>74</td>\n",
       "      <td>1.611862e+09</td>\n",
       "      <td>NaN</td>\n",
       "      <td>2021-01-28 21:28:57</td>\n",
       "    </tr>\n",
       "    <tr>\n",
       "      <th>4</th>\n",
       "      <td>Not to distract from GME, just thought our AMC...</td>\n",
       "      <td>71</td>\n",
       "      <td>l6ufgy</td>\n",
       "      <td>https://i.redd.it/4h2sukb662e61.jpg</td>\n",
       "      <td>156</td>\n",
       "      <td>1.611862e+09</td>\n",
       "      <td>NaN</td>\n",
       "      <td>2021-01-28 21:26:56</td>\n",
       "    </tr>\n",
       "  </tbody>\n",
       "</table>\n",
       "</div>"
      ],
      "text/plain": [
       "                                               title  score      id  \\\n",
       "0  It's not about the money, it's about sending a...     55  l6ulcx   \n",
       "1  Math Professor Scott Steiner says the numbers ...    110  l6uibd   \n",
       "2                                    Exit the system      0  l6uhhn   \n",
       "3  NEW SEC FILING FOR GME! CAN SOMEONE LESS RETAR...     29  l6ugk6   \n",
       "4  Not to distract from GME, just thought our AMC...     71  l6ufgy   \n",
       "\n",
       "                                                 url  comms_num       created  \\\n",
       "0                    https://v.redd.it/6j75regs72e61          6  1.611863e+09   \n",
       "1                    https://v.redd.it/ah50lyny62e61         23  1.611862e+09   \n",
       "2  https://www.reddit.com/r/wallstreetbets/commen...         47  1.611862e+09   \n",
       "3  https://sec.report/Document/0001193125-21-019848/         74  1.611862e+09   \n",
       "4                https://i.redd.it/4h2sukb662e61.jpg        156  1.611862e+09   \n",
       "\n",
       "                                                body            timestamp  \n",
       "0                                                NaN  2021-01-28 21:37:41  \n",
       "1                                                NaN  2021-01-28 21:32:10  \n",
       "2  The CEO of NASDAQ pushed to halt trading “to g...  2021-01-28 21:30:35  \n",
       "3                                                NaN  2021-01-28 21:28:57  \n",
       "4                                                NaN  2021-01-28 21:26:56  "
      ]
     },
     "execution_count": 6,
     "metadata": {},
     "output_type": "execute_result"
    }
   ],
   "source": [
    "#check the head \n",
    "wall.head()"
   ]
  },
  {
   "cell_type": "code",
   "execution_count": 4,
   "metadata": {},
   "outputs": [
    {
     "name": "stdout",
     "output_type": "stream",
     "text": [
      "<class 'pandas.core.frame.DataFrame'>\n",
      "RangeIndex: 37155 entries, 0 to 37154\n",
      "Data columns (total 8 columns):\n",
      " #   Column     Non-Null Count  Dtype  \n",
      "---  ------     --------------  -----  \n",
      " 0   title      37155 non-null  object \n",
      " 1   score      37155 non-null  int64  \n",
      " 2   id         37155 non-null  object \n",
      " 3   url        37155 non-null  object \n",
      " 4   comms_num  37155 non-null  int64  \n",
      " 5   created    37155 non-null  float64\n",
      " 6   body       18718 non-null  object \n",
      " 7   timestamp  37155 non-null  object \n",
      "dtypes: float64(1), int64(2), object(5)\n",
      "memory usage: 2.3+ MB\n"
     ]
    }
   ],
   "source": [
    "#check info \n",
    "wall.info()"
   ]
  },
  {
   "cell_type": "code",
   "execution_count": 5,
   "metadata": {},
   "outputs": [
    {
     "data": {
      "text/html": [
       "<div>\n",
       "<style scoped>\n",
       "    .dataframe tbody tr th:only-of-type {\n",
       "        vertical-align: middle;\n",
       "    }\n",
       "\n",
       "    .dataframe tbody tr th {\n",
       "        vertical-align: top;\n",
       "    }\n",
       "\n",
       "    .dataframe thead th {\n",
       "        text-align: right;\n",
       "    }\n",
       "</style>\n",
       "<table border=\"1\" class=\"dataframe\">\n",
       "  <thead>\n",
       "    <tr style=\"text-align: right;\">\n",
       "      <th></th>\n",
       "      <th>title</th>\n",
       "      <th>id</th>\n",
       "      <th>url</th>\n",
       "      <th>body</th>\n",
       "      <th>timestamp</th>\n",
       "    </tr>\n",
       "  </thead>\n",
       "  <tbody>\n",
       "    <tr>\n",
       "      <th>0</th>\n",
       "      <td>It's not about the money, it's about sending a...</td>\n",
       "      <td>l6ulcx</td>\n",
       "      <td>https://v.redd.it/6j75regs72e61</td>\n",
       "      <td>NaN</td>\n",
       "      <td>2021-01-28 21:37:41</td>\n",
       "    </tr>\n",
       "    <tr>\n",
       "      <th>1</th>\n",
       "      <td>Math Professor Scott Steiner says the numbers ...</td>\n",
       "      <td>l6uibd</td>\n",
       "      <td>https://v.redd.it/ah50lyny62e61</td>\n",
       "      <td>NaN</td>\n",
       "      <td>2021-01-28 21:32:10</td>\n",
       "    </tr>\n",
       "    <tr>\n",
       "      <th>2</th>\n",
       "      <td>Exit the system</td>\n",
       "      <td>l6uhhn</td>\n",
       "      <td>https://www.reddit.com/r/wallstreetbets/commen...</td>\n",
       "      <td>The CEO of NASDAQ pushed to halt trading “to g...</td>\n",
       "      <td>2021-01-28 21:30:35</td>\n",
       "    </tr>\n",
       "    <tr>\n",
       "      <th>3</th>\n",
       "      <td>NEW SEC FILING FOR GME! CAN SOMEONE LESS RETAR...</td>\n",
       "      <td>l6ugk6</td>\n",
       "      <td>https://sec.report/Document/0001193125-21-019848/</td>\n",
       "      <td>NaN</td>\n",
       "      <td>2021-01-28 21:28:57</td>\n",
       "    </tr>\n",
       "    <tr>\n",
       "      <th>4</th>\n",
       "      <td>Not to distract from GME, just thought our AMC...</td>\n",
       "      <td>l6ufgy</td>\n",
       "      <td>https://i.redd.it/4h2sukb662e61.jpg</td>\n",
       "      <td>NaN</td>\n",
       "      <td>2021-01-28 21:26:56</td>\n",
       "    </tr>\n",
       "    <tr>\n",
       "      <th>...</th>\n",
       "      <td>...</td>\n",
       "      <td>...</td>\n",
       "      <td>...</td>\n",
       "      <td>...</td>\n",
       "      <td>...</td>\n",
       "    </tr>\n",
       "    <tr>\n",
       "      <th>37150</th>\n",
       "      <td>Could use some help here at the end of the day...</td>\n",
       "      <td>lt4i4u</td>\n",
       "      <td>https://i.redd.it/1rhnimof9vj61.jpg</td>\n",
       "      <td>NaN</td>\n",
       "      <td>2021-02-27 04:37:32</td>\n",
       "    </tr>\n",
       "    <tr>\n",
       "      <th>37151</th>\n",
       "      <td>The war has just begun</td>\n",
       "      <td>lt4fk0</td>\n",
       "      <td>https://v.redd.it/fcyia2xo8vj61</td>\n",
       "      <td>NaN</td>\n",
       "      <td>2021-02-27 04:34:21</td>\n",
       "    </tr>\n",
       "    <tr>\n",
       "      <th>37152</th>\n",
       "      <td>PSA: AMCX is not up because of AMC</td>\n",
       "      <td>lt4ci5</td>\n",
       "      <td>https://www.reddit.com/r/wallstreetbets/commen...</td>\n",
       "      <td>Tl;dr AMCX is a very undervalued company based...</td>\n",
       "      <td>2021-02-27 04:30:42</td>\n",
       "    </tr>\n",
       "    <tr>\n",
       "      <th>37153</th>\n",
       "      <td>Ape Combat 6: Liberation of Gamestopmeria</td>\n",
       "      <td>lt46qn</td>\n",
       "      <td>https://v.redd.it/x6b005am5vj61</td>\n",
       "      <td>NaN</td>\n",
       "      <td>2021-02-27 04:23:42</td>\n",
       "    </tr>\n",
       "    <tr>\n",
       "      <th>37154</th>\n",
       "      <td>A Slap Back to Reality</td>\n",
       "      <td>lt47yg</td>\n",
       "      <td>https://www.reddit.com/r/wallstreetbets/commen...</td>\n",
       "      <td>Obligatory: This is not financial advice. I am...</td>\n",
       "      <td>2021-02-27 04:25:09</td>\n",
       "    </tr>\n",
       "  </tbody>\n",
       "</table>\n",
       "<p>37155 rows × 5 columns</p>\n",
       "</div>"
      ],
      "text/plain": [
       "                                                   title      id  \\\n",
       "0      It's not about the money, it's about sending a...  l6ulcx   \n",
       "1      Math Professor Scott Steiner says the numbers ...  l6uibd   \n",
       "2                                        Exit the system  l6uhhn   \n",
       "3      NEW SEC FILING FOR GME! CAN SOMEONE LESS RETAR...  l6ugk6   \n",
       "4      Not to distract from GME, just thought our AMC...  l6ufgy   \n",
       "...                                                  ...     ...   \n",
       "37150  Could use some help here at the end of the day...  lt4i4u   \n",
       "37151                             The war has just begun  lt4fk0   \n",
       "37152                 PSA: AMCX is not up because of AMC  lt4ci5   \n",
       "37153          Ape Combat 6: Liberation of Gamestopmeria  lt46qn   \n",
       "37154                             A Slap Back to Reality  lt47yg   \n",
       "\n",
       "                                                     url  \\\n",
       "0                        https://v.redd.it/6j75regs72e61   \n",
       "1                        https://v.redd.it/ah50lyny62e61   \n",
       "2      https://www.reddit.com/r/wallstreetbets/commen...   \n",
       "3      https://sec.report/Document/0001193125-21-019848/   \n",
       "4                    https://i.redd.it/4h2sukb662e61.jpg   \n",
       "...                                                  ...   \n",
       "37150                https://i.redd.it/1rhnimof9vj61.jpg   \n",
       "37151                    https://v.redd.it/fcyia2xo8vj61   \n",
       "37152  https://www.reddit.com/r/wallstreetbets/commen...   \n",
       "37153                    https://v.redd.it/x6b005am5vj61   \n",
       "37154  https://www.reddit.com/r/wallstreetbets/commen...   \n",
       "\n",
       "                                                    body            timestamp  \n",
       "0                                                    NaN  2021-01-28 21:37:41  \n",
       "1                                                    NaN  2021-01-28 21:32:10  \n",
       "2      The CEO of NASDAQ pushed to halt trading “to g...  2021-01-28 21:30:35  \n",
       "3                                                    NaN  2021-01-28 21:28:57  \n",
       "4                                                    NaN  2021-01-28 21:26:56  \n",
       "...                                                  ...                  ...  \n",
       "37150                                                NaN  2021-02-27 04:37:32  \n",
       "37151                                                NaN  2021-02-27 04:34:21  \n",
       "37152  Tl;dr AMCX is a very undervalued company based...  2021-02-27 04:30:42  \n",
       "37153                                                NaN  2021-02-27 04:23:42  \n",
       "37154  Obligatory: This is not financial advice. I am...  2021-02-27 04:25:09  \n",
       "\n",
       "[37155 rows x 5 columns]"
      ]
     },
     "execution_count": 5,
     "metadata": {},
     "output_type": "execute_result"
    }
   ],
   "source": [
    "#check data types \n",
    "wall.select_dtypes('object')"
   ]
  },
  {
   "cell_type": "code",
   "execution_count": 6,
   "metadata": {},
   "outputs": [
    {
     "data": {
      "text/plain": [
       "title            0\n",
       "score            0\n",
       "id               0\n",
       "url              0\n",
       "comms_num        0\n",
       "created          0\n",
       "body         18437\n",
       "timestamp        0\n",
       "dtype: int64"
      ]
     },
     "execution_count": 6,
     "metadata": {},
     "output_type": "execute_result"
    }
   ],
   "source": [
    "#look at all posts with \"NaN\" see if you should remove them\n",
    "wall.isnull().sum()"
   ]
  },
  {
   "cell_type": "markdown",
   "metadata": {},
   "source": [
    "find out how percent of missing \"body\" data:\n",
    "37155/18437 = 2.01524109128. This is almost half the data"
   ]
  },
  {
   "cell_type": "code",
   "execution_count": 8,
   "metadata": {},
   "outputs": [
    {
     "data": {
      "text/html": [
       "<div>\n",
       "<style scoped>\n",
       "    .dataframe tbody tr th:only-of-type {\n",
       "        vertical-align: middle;\n",
       "    }\n",
       "\n",
       "    .dataframe tbody tr th {\n",
       "        vertical-align: top;\n",
       "    }\n",
       "\n",
       "    .dataframe thead th {\n",
       "        text-align: right;\n",
       "    }\n",
       "</style>\n",
       "<table border=\"1\" class=\"dataframe\">\n",
       "  <thead>\n",
       "    <tr style=\"text-align: right;\">\n",
       "      <th></th>\n",
       "      <th>title</th>\n",
       "      <th>score</th>\n",
       "      <th>id</th>\n",
       "      <th>url</th>\n",
       "      <th>comms_num</th>\n",
       "      <th>created</th>\n",
       "      <th>body</th>\n",
       "      <th>timestamp</th>\n",
       "    </tr>\n",
       "  </thead>\n",
       "  <tbody>\n",
       "    <tr>\n",
       "      <th>19162</th>\n",
       "      <td>Times Square right now</td>\n",
       "      <td>348241</td>\n",
       "      <td>l8rf4k</td>\n",
       "      <td>https://v.redd.it/x64z70f7eie61</td>\n",
       "      <td>11554</td>\n",
       "      <td>1.612058e+09</td>\n",
       "      <td>NaN</td>\n",
       "      <td>2021-01-31 04:00:38</td>\n",
       "    </tr>\n",
       "    <tr>\n",
       "      <th>16009</th>\n",
       "      <td>GME YOLO update — Jan 28 2021</td>\n",
       "      <td>225870</td>\n",
       "      <td>l78uct</td>\n",
       "      <td>https://i.redd.it/opzucppb15e61.png</td>\n",
       "      <td>23309</td>\n",
       "      <td>1.611897e+09</td>\n",
       "      <td>NaN</td>\n",
       "      <td>2021-01-29 07:06:23</td>\n",
       "    </tr>\n",
       "    <tr>\n",
       "      <th>17771</th>\n",
       "      <td>GME YOLO month-end update — Jan 2021</td>\n",
       "      <td>219779</td>\n",
       "      <td>l846a1</td>\n",
       "      <td>https://i.redd.it/r557em3t5ce61.png</td>\n",
       "      <td>20105</td>\n",
       "      <td>1.611983e+09</td>\n",
       "      <td>NaN</td>\n",
       "      <td>2021-01-30 07:04:45</td>\n",
       "    </tr>\n",
       "    <tr>\n",
       "      <th>34179</th>\n",
       "      <td>GME YOLO update — Feb 19 2021</td>\n",
       "      <td>201168</td>\n",
       "      <td>lnqgz8</td>\n",
       "      <td>https://i.redd.it/2xswz0h11ii61.png</td>\n",
       "      <td>12846</td>\n",
       "      <td>1.613798e+09</td>\n",
       "      <td>NaN</td>\n",
       "      <td>2021-02-20 07:05:55</td>\n",
       "    </tr>\n",
       "    <tr>\n",
       "      <th>18273</th>\n",
       "      <td>It’s treason then</td>\n",
       "      <td>195782</td>\n",
       "      <td>l881ia</td>\n",
       "      <td>https://i.redd.it/d3t66lv1yce61.jpg</td>\n",
       "      <td>4523</td>\n",
       "      <td>1.611992e+09</td>\n",
       "      <td>NaN</td>\n",
       "      <td>2021-01-30 09:40:59</td>\n",
       "    </tr>\n",
       "    <tr>\n",
       "      <th>...</th>\n",
       "      <td>...</td>\n",
       "      <td>...</td>\n",
       "      <td>...</td>\n",
       "      <td>...</td>\n",
       "      <td>...</td>\n",
       "      <td>...</td>\n",
       "      <td>...</td>\n",
       "      <td>...</td>\n",
       "    </tr>\n",
       "    <tr>\n",
       "      <th>23414</th>\n",
       "      <td>Greatest transfer of wealth, you say</td>\n",
       "      <td>0</td>\n",
       "      <td>lbk4m0</td>\n",
       "      <td>https://www.reddit.com/r/wallstreetbets/commen...</td>\n",
       "      <td>25</td>\n",
       "      <td>1.612374e+09</td>\n",
       "      <td>To the hedge funds maybe.\\n\\nYou think that ho...</td>\n",
       "      <td>2021-02-03 19:43:51</td>\n",
       "    </tr>\n",
       "    <tr>\n",
       "      <th>35183</th>\n",
       "      <td>TC Energy (TRP.TO) making mad profits due to T...</td>\n",
       "      <td>0</td>\n",
       "      <td>lqzs0i</td>\n",
       "      <td>https://www.reddit.com/r/wallstreetbets/commen...</td>\n",
       "      <td>28</td>\n",
       "      <td>1.614160e+09</td>\n",
       "      <td>I will re-write this to r/WSB standards until ...</td>\n",
       "      <td>2021-02-24 11:42:18</td>\n",
       "    </tr>\n",
       "    <tr>\n",
       "      <th>31107</th>\n",
       "      <td>MPRT! Amazon partnership and still going for low!</td>\n",
       "      <td>0</td>\n",
       "      <td>ldoall</td>\n",
       "      <td>https://www.reddit.com/r/wallstreetbets/commen...</td>\n",
       "      <td>11</td>\n",
       "      <td>1.612609e+09</td>\n",
       "      <td>Any thoughts on it with the Amazon announcement?</td>\n",
       "      <td>2021-02-06 12:56:10</td>\n",
       "    </tr>\n",
       "    <tr>\n",
       "      <th>31108</th>\n",
       "      <td>CLOV is the New GME Change my mind! Hindenburg...</td>\n",
       "      <td>0</td>\n",
       "      <td>ldnk76</td>\n",
       "      <td>https://www.reddit.com/gallery/ldnk76</td>\n",
       "      <td>9</td>\n",
       "      <td>1.612606e+09</td>\n",
       "      <td>NaN</td>\n",
       "      <td>2021-02-06 12:14:50</td>\n",
       "    </tr>\n",
       "    <tr>\n",
       "      <th>22092</th>\n",
       "      <td>How's the moon bois? XDDDDDDDDDDDDDDDD</td>\n",
       "      <td>0</td>\n",
       "      <td>laymap</td>\n",
       "      <td>https://i.redd.it/flay6hj153f61.jpg</td>\n",
       "      <td>26</td>\n",
       "      <td>1.612310e+09</td>\n",
       "      <td>NaN</td>\n",
       "      <td>2021-02-03 01:46:32</td>\n",
       "    </tr>\n",
       "  </tbody>\n",
       "</table>\n",
       "<p>37155 rows × 8 columns</p>\n",
       "</div>"
      ],
      "text/plain": [
       "                                                   title   score      id  \\\n",
       "19162                             Times Square right now  348241  l8rf4k   \n",
       "16009                      GME YOLO update — Jan 28 2021  225870  l78uct   \n",
       "17771               GME YOLO month-end update — Jan 2021  219779  l846a1   \n",
       "34179                      GME YOLO update — Feb 19 2021  201168  lnqgz8   \n",
       "18273                                  It’s treason then  195782  l881ia   \n",
       "...                                                  ...     ...     ...   \n",
       "23414               Greatest transfer of wealth, you say       0  lbk4m0   \n",
       "35183  TC Energy (TRP.TO) making mad profits due to T...       0  lqzs0i   \n",
       "31107  MPRT! Amazon partnership and still going for low!       0  ldoall   \n",
       "31108  CLOV is the New GME Change my mind! Hindenburg...       0  ldnk76   \n",
       "22092             How's the moon bois? XDDDDDDDDDDDDDDDD       0  laymap   \n",
       "\n",
       "                                                     url  comms_num  \\\n",
       "19162                    https://v.redd.it/x64z70f7eie61      11554   \n",
       "16009                https://i.redd.it/opzucppb15e61.png      23309   \n",
       "17771                https://i.redd.it/r557em3t5ce61.png      20105   \n",
       "34179                https://i.redd.it/2xswz0h11ii61.png      12846   \n",
       "18273                https://i.redd.it/d3t66lv1yce61.jpg       4523   \n",
       "...                                                  ...        ...   \n",
       "23414  https://www.reddit.com/r/wallstreetbets/commen...         25   \n",
       "35183  https://www.reddit.com/r/wallstreetbets/commen...         28   \n",
       "31107  https://www.reddit.com/r/wallstreetbets/commen...         11   \n",
       "31108              https://www.reddit.com/gallery/ldnk76          9   \n",
       "22092                https://i.redd.it/flay6hj153f61.jpg         26   \n",
       "\n",
       "            created                                               body  \\\n",
       "19162  1.612058e+09                                                NaN   \n",
       "16009  1.611897e+09                                                NaN   \n",
       "17771  1.611983e+09                                                NaN   \n",
       "34179  1.613798e+09                                                NaN   \n",
       "18273  1.611992e+09                                                NaN   \n",
       "...             ...                                                ...   \n",
       "23414  1.612374e+09  To the hedge funds maybe.\\n\\nYou think that ho...   \n",
       "35183  1.614160e+09  I will re-write this to r/WSB standards until ...   \n",
       "31107  1.612609e+09   Any thoughts on it with the Amazon announcement?   \n",
       "31108  1.612606e+09                                                NaN   \n",
       "22092  1.612310e+09                                                NaN   \n",
       "\n",
       "                 timestamp  \n",
       "19162  2021-01-31 04:00:38  \n",
       "16009  2021-01-29 07:06:23  \n",
       "17771  2021-01-30 07:04:45  \n",
       "34179  2021-02-20 07:05:55  \n",
       "18273  2021-01-30 09:40:59  \n",
       "...                    ...  \n",
       "23414  2021-02-03 19:43:51  \n",
       "35183  2021-02-24 11:42:18  \n",
       "31107  2021-02-06 12:56:10  \n",
       "31108  2021-02-06 12:14:50  \n",
       "22092  2021-02-03 01:46:32  \n",
       "\n",
       "[37155 rows x 8 columns]"
      ]
     },
     "execution_count": 8,
     "metadata": {},
     "output_type": "execute_result"
    }
   ],
   "source": [
    "#list 'score' column by desc\n",
    "wall.sort_values(by='score', ascending=False)"
   ]
  },
  {
   "cell_type": "markdown",
   "metadata": {},
   "source": [
    "Creating new columns for time and data from \"timestamp\" column"
   ]
  },
  {
   "cell_type": "code",
   "execution_count": 9,
   "metadata": {},
   "outputs": [
    {
     "data": {
      "text/html": [
       "<div>\n",
       "<style scoped>\n",
       "    .dataframe tbody tr th:only-of-type {\n",
       "        vertical-align: middle;\n",
       "    }\n",
       "\n",
       "    .dataframe tbody tr th {\n",
       "        vertical-align: top;\n",
       "    }\n",
       "\n",
       "    .dataframe thead th {\n",
       "        text-align: right;\n",
       "    }\n",
       "</style>\n",
       "<table border=\"1\" class=\"dataframe\">\n",
       "  <thead>\n",
       "    <tr style=\"text-align: right;\">\n",
       "      <th></th>\n",
       "      <th>title</th>\n",
       "      <th>score</th>\n",
       "      <th>id</th>\n",
       "      <th>url</th>\n",
       "      <th>comms_num</th>\n",
       "      <th>created</th>\n",
       "      <th>body</th>\n",
       "      <th>timestamp</th>\n",
       "      <th>Time</th>\n",
       "    </tr>\n",
       "  </thead>\n",
       "  <tbody>\n",
       "    <tr>\n",
       "      <th>0</th>\n",
       "      <td>It's not about the money, it's about sending a...</td>\n",
       "      <td>55</td>\n",
       "      <td>l6ulcx</td>\n",
       "      <td>https://v.redd.it/6j75regs72e61</td>\n",
       "      <td>6</td>\n",
       "      <td>1.611863e+09</td>\n",
       "      <td>NaN</td>\n",
       "      <td>2021-01-28 21:37:41</td>\n",
       "      <td>21:37:41</td>\n",
       "    </tr>\n",
       "    <tr>\n",
       "      <th>1</th>\n",
       "      <td>Math Professor Scott Steiner says the numbers ...</td>\n",
       "      <td>110</td>\n",
       "      <td>l6uibd</td>\n",
       "      <td>https://v.redd.it/ah50lyny62e61</td>\n",
       "      <td>23</td>\n",
       "      <td>1.611862e+09</td>\n",
       "      <td>NaN</td>\n",
       "      <td>2021-01-28 21:32:10</td>\n",
       "      <td>21:32:10</td>\n",
       "    </tr>\n",
       "    <tr>\n",
       "      <th>2</th>\n",
       "      <td>Exit the system</td>\n",
       "      <td>0</td>\n",
       "      <td>l6uhhn</td>\n",
       "      <td>https://www.reddit.com/r/wallstreetbets/commen...</td>\n",
       "      <td>47</td>\n",
       "      <td>1.611862e+09</td>\n",
       "      <td>The CEO of NASDAQ pushed to halt trading “to g...</td>\n",
       "      <td>2021-01-28 21:30:35</td>\n",
       "      <td>21:30:35</td>\n",
       "    </tr>\n",
       "    <tr>\n",
       "      <th>3</th>\n",
       "      <td>NEW SEC FILING FOR GME! CAN SOMEONE LESS RETAR...</td>\n",
       "      <td>29</td>\n",
       "      <td>l6ugk6</td>\n",
       "      <td>https://sec.report/Document/0001193125-21-019848/</td>\n",
       "      <td>74</td>\n",
       "      <td>1.611862e+09</td>\n",
       "      <td>NaN</td>\n",
       "      <td>2021-01-28 21:28:57</td>\n",
       "      <td>21:28:57</td>\n",
       "    </tr>\n",
       "    <tr>\n",
       "      <th>4</th>\n",
       "      <td>Not to distract from GME, just thought our AMC...</td>\n",
       "      <td>71</td>\n",
       "      <td>l6ufgy</td>\n",
       "      <td>https://i.redd.it/4h2sukb662e61.jpg</td>\n",
       "      <td>156</td>\n",
       "      <td>1.611862e+09</td>\n",
       "      <td>NaN</td>\n",
       "      <td>2021-01-28 21:26:56</td>\n",
       "      <td>21:26:56</td>\n",
       "    </tr>\n",
       "  </tbody>\n",
       "</table>\n",
       "</div>"
      ],
      "text/plain": [
       "                                               title  score      id  \\\n",
       "0  It's not about the money, it's about sending a...     55  l6ulcx   \n",
       "1  Math Professor Scott Steiner says the numbers ...    110  l6uibd   \n",
       "2                                    Exit the system      0  l6uhhn   \n",
       "3  NEW SEC FILING FOR GME! CAN SOMEONE LESS RETAR...     29  l6ugk6   \n",
       "4  Not to distract from GME, just thought our AMC...     71  l6ufgy   \n",
       "\n",
       "                                                 url  comms_num       created  \\\n",
       "0                    https://v.redd.it/6j75regs72e61          6  1.611863e+09   \n",
       "1                    https://v.redd.it/ah50lyny62e61         23  1.611862e+09   \n",
       "2  https://www.reddit.com/r/wallstreetbets/commen...         47  1.611862e+09   \n",
       "3  https://sec.report/Document/0001193125-21-019848/         74  1.611862e+09   \n",
       "4                https://i.redd.it/4h2sukb662e61.jpg        156  1.611862e+09   \n",
       "\n",
       "                                                body            timestamp  \\\n",
       "0                                                NaN  2021-01-28 21:37:41   \n",
       "1                                                NaN  2021-01-28 21:32:10   \n",
       "2  The CEO of NASDAQ pushed to halt trading “to g...  2021-01-28 21:30:35   \n",
       "3                                                NaN  2021-01-28 21:28:57   \n",
       "4                                                NaN  2021-01-28 21:26:56   \n",
       "\n",
       "       Time  \n",
       "0  21:37:41  \n",
       "1  21:32:10  \n",
       "2  21:30:35  \n",
       "3  21:28:57  \n",
       "4  21:26:56  "
      ]
     },
     "execution_count": 9,
     "metadata": {},
     "output_type": "execute_result"
    }
   ],
   "source": [
    "#Extract time from timestamp add an EST time column \n",
    "#resource- https://www.w3resource.com/python/python-date-and-time.php \n",
    "wall['Time'] = pd.DatetimeIndex(wall['timestamp']).time\n",
    "\n",
    "#change time format to EST \n",
    "wall.head()"
   ]
  },
  {
   "cell_type": "code",
   "execution_count": 11,
   "metadata": {},
   "outputs": [
    {
     "data": {
      "text/html": [
       "<div>\n",
       "<style scoped>\n",
       "    .dataframe tbody tr th:only-of-type {\n",
       "        vertical-align: middle;\n",
       "    }\n",
       "\n",
       "    .dataframe tbody tr th {\n",
       "        vertical-align: top;\n",
       "    }\n",
       "\n",
       "    .dataframe thead th {\n",
       "        text-align: right;\n",
       "    }\n",
       "</style>\n",
       "<table border=\"1\" class=\"dataframe\">\n",
       "  <thead>\n",
       "    <tr style=\"text-align: right;\">\n",
       "      <th></th>\n",
       "      <th>title</th>\n",
       "      <th>score</th>\n",
       "      <th>id</th>\n",
       "      <th>url</th>\n",
       "      <th>comms_num</th>\n",
       "      <th>created</th>\n",
       "      <th>body</th>\n",
       "      <th>timestamp</th>\n",
       "      <th>Time</th>\n",
       "      <th>Date</th>\n",
       "    </tr>\n",
       "  </thead>\n",
       "  <tbody>\n",
       "    <tr>\n",
       "      <th>0</th>\n",
       "      <td>It's not about the money, it's about sending a...</td>\n",
       "      <td>55</td>\n",
       "      <td>l6ulcx</td>\n",
       "      <td>https://v.redd.it/6j75regs72e61</td>\n",
       "      <td>6</td>\n",
       "      <td>1.611863e+09</td>\n",
       "      <td>NaN</td>\n",
       "      <td>2021-01-28 21:37:41</td>\n",
       "      <td>21:37:41</td>\n",
       "      <td>2021-01-28</td>\n",
       "    </tr>\n",
       "    <tr>\n",
       "      <th>1</th>\n",
       "      <td>Math Professor Scott Steiner says the numbers ...</td>\n",
       "      <td>110</td>\n",
       "      <td>l6uibd</td>\n",
       "      <td>https://v.redd.it/ah50lyny62e61</td>\n",
       "      <td>23</td>\n",
       "      <td>1.611862e+09</td>\n",
       "      <td>NaN</td>\n",
       "      <td>2021-01-28 21:32:10</td>\n",
       "      <td>21:32:10</td>\n",
       "      <td>2021-01-28</td>\n",
       "    </tr>\n",
       "    <tr>\n",
       "      <th>2</th>\n",
       "      <td>Exit the system</td>\n",
       "      <td>0</td>\n",
       "      <td>l6uhhn</td>\n",
       "      <td>https://www.reddit.com/r/wallstreetbets/commen...</td>\n",
       "      <td>47</td>\n",
       "      <td>1.611862e+09</td>\n",
       "      <td>The CEO of NASDAQ pushed to halt trading “to g...</td>\n",
       "      <td>2021-01-28 21:30:35</td>\n",
       "      <td>21:30:35</td>\n",
       "      <td>2021-01-28</td>\n",
       "    </tr>\n",
       "    <tr>\n",
       "      <th>3</th>\n",
       "      <td>NEW SEC FILING FOR GME! CAN SOMEONE LESS RETAR...</td>\n",
       "      <td>29</td>\n",
       "      <td>l6ugk6</td>\n",
       "      <td>https://sec.report/Document/0001193125-21-019848/</td>\n",
       "      <td>74</td>\n",
       "      <td>1.611862e+09</td>\n",
       "      <td>NaN</td>\n",
       "      <td>2021-01-28 21:28:57</td>\n",
       "      <td>21:28:57</td>\n",
       "      <td>2021-01-28</td>\n",
       "    </tr>\n",
       "    <tr>\n",
       "      <th>4</th>\n",
       "      <td>Not to distract from GME, just thought our AMC...</td>\n",
       "      <td>71</td>\n",
       "      <td>l6ufgy</td>\n",
       "      <td>https://i.redd.it/4h2sukb662e61.jpg</td>\n",
       "      <td>156</td>\n",
       "      <td>1.611862e+09</td>\n",
       "      <td>NaN</td>\n",
       "      <td>2021-01-28 21:26:56</td>\n",
       "      <td>21:26:56</td>\n",
       "      <td>2021-01-28</td>\n",
       "    </tr>\n",
       "  </tbody>\n",
       "</table>\n",
       "</div>"
      ],
      "text/plain": [
       "                                               title  score      id  \\\n",
       "0  It's not about the money, it's about sending a...     55  l6ulcx   \n",
       "1  Math Professor Scott Steiner says the numbers ...    110  l6uibd   \n",
       "2                                    Exit the system      0  l6uhhn   \n",
       "3  NEW SEC FILING FOR GME! CAN SOMEONE LESS RETAR...     29  l6ugk6   \n",
       "4  Not to distract from GME, just thought our AMC...     71  l6ufgy   \n",
       "\n",
       "                                                 url  comms_num       created  \\\n",
       "0                    https://v.redd.it/6j75regs72e61          6  1.611863e+09   \n",
       "1                    https://v.redd.it/ah50lyny62e61         23  1.611862e+09   \n",
       "2  https://www.reddit.com/r/wallstreetbets/commen...         47  1.611862e+09   \n",
       "3  https://sec.report/Document/0001193125-21-019848/         74  1.611862e+09   \n",
       "4                https://i.redd.it/4h2sukb662e61.jpg        156  1.611862e+09   \n",
       "\n",
       "                                                body            timestamp  \\\n",
       "0                                                NaN  2021-01-28 21:37:41   \n",
       "1                                                NaN  2021-01-28 21:32:10   \n",
       "2  The CEO of NASDAQ pushed to halt trading “to g...  2021-01-28 21:30:35   \n",
       "3                                                NaN  2021-01-28 21:28:57   \n",
       "4                                                NaN  2021-01-28 21:26:56   \n",
       "\n",
       "       Time        Date  \n",
       "0  21:37:41  2021-01-28  \n",
       "1  21:32:10  2021-01-28  \n",
       "2  21:30:35  2021-01-28  \n",
       "3  21:28:57  2021-01-28  \n",
       "4  21:26:56  2021-01-28  "
      ]
     },
     "execution_count": 11,
     "metadata": {},
     "output_type": "execute_result"
    }
   ],
   "source": [
    "#Extract date from \"timestamp\" column and create \"Date\" column\n",
    "wall['Date'] = pd.DatetimeIndex(wall['timestamp']).date\n",
    "wall.head()"
   ]
  },
  {
   "cell_type": "code",
   "execution_count": 25,
   "metadata": {},
   "outputs": [
    {
     "name": "stdout",
     "output_type": "stream",
     "text": [
      "<class 'pandas.core.frame.DataFrame'>\n",
      "RangeIndex: 37155 entries, 0 to 37154\n",
      "Data columns (total 10 columns):\n",
      " #   Column     Non-Null Count  Dtype  \n",
      "---  ------     --------------  -----  \n",
      " 0   title      37155 non-null  object \n",
      " 1   score      37155 non-null  int64  \n",
      " 2   id         37155 non-null  object \n",
      " 3   url        37155 non-null  object \n",
      " 4   comms_num  37155 non-null  int64  \n",
      " 5   created    37155 non-null  float64\n",
      " 6   body       18718 non-null  object \n",
      " 7   timestamp  37155 non-null  object \n",
      " 8   Time       37155 non-null  object \n",
      " 9   Date       37155 non-null  object \n",
      "dtypes: float64(1), int64(2), object(7)\n",
      "memory usage: 2.8+ MB\n"
     ]
    }
   ],
   "source": [
    "#check types of new features\n",
    "wall.info()"
   ]
  },
  {
   "cell_type": "markdown",
   "metadata": {},
   "source": [
    "Changing all numeric data to float type"
   ]
  },
  {
   "cell_type": "code",
   "execution_count": 44,
   "metadata": {},
   "outputs": [
    {
     "name": "stdout",
     "output_type": "stream",
     "text": [
      "0        2021-01-28\n",
      "1        2021-01-28\n",
      "2        2021-01-28\n",
      "3        2021-01-28\n",
      "4        2021-01-28\n",
      "            ...    \n",
      "37150    2021-02-27\n",
      "37151    2021-02-27\n",
      "37152    2021-02-27\n",
      "37153    2021-02-27\n",
      "37154    2021-02-27\n",
      "Name: Date, Length: 37155, dtype: object\n"
     ]
    }
   ],
   "source": [
    "#https://stackoverflow.com/questions/43109167/converting-date-and-time-into-float-in-python/43109317\n",
    "wall['Date'].replace('-', '').replace(':', '')"
   ]
  },
  {
   "cell_type": "code",
   "execution_count": 43,
   "metadata": {},
   "outputs": [
    {
     "data": {
      "text/plain": [
       "0        21:37:41\n",
       "1        21:32:10\n",
       "2        21:30:35\n",
       "3        21:28:57\n",
       "4        21:26:56\n",
       "           ...   \n",
       "37150    04:37:32\n",
       "37151    04:34:21\n",
       "37152    04:30:42\n",
       "37153    04:23:42\n",
       "37154    04:25:09\n",
       "Name: Time, Length: 37155, dtype: object"
      ]
     },
     "execution_count": 43,
     "metadata": {},
     "output_type": "execute_result"
    }
   ],
   "source": [
    "wall['Time'].replace('-', '').replace(':', '')"
   ]
  },
  {
   "cell_type": "markdown",
   "metadata": {},
   "source": [
    "# EDA"
   ]
  },
  {
   "cell_type": "code",
   "execution_count": 34,
   "metadata": {},
   "outputs": [
    {
     "data": {
      "text/html": [
       "<div>\n",
       "<style scoped>\n",
       "    .dataframe tbody tr th:only-of-type {\n",
       "        vertical-align: middle;\n",
       "    }\n",
       "\n",
       "    .dataframe tbody tr th {\n",
       "        vertical-align: top;\n",
       "    }\n",
       "\n",
       "    .dataframe thead th {\n",
       "        text-align: right;\n",
       "    }\n",
       "</style>\n",
       "<table border=\"1\" class=\"dataframe\">\n",
       "  <thead>\n",
       "    <tr style=\"text-align: right;\">\n",
       "      <th></th>\n",
       "      <th>score</th>\n",
       "      <th>comms_num</th>\n",
       "      <th>created</th>\n",
       "    </tr>\n",
       "  </thead>\n",
       "  <tbody>\n",
       "    <tr>\n",
       "      <th>score</th>\n",
       "      <td>1.000000</td>\n",
       "      <td>0.199751</td>\n",
       "      <td>0.074560</td>\n",
       "    </tr>\n",
       "    <tr>\n",
       "      <th>comms_num</th>\n",
       "      <td>0.199751</td>\n",
       "      <td>1.000000</td>\n",
       "      <td>0.056829</td>\n",
       "    </tr>\n",
       "    <tr>\n",
       "      <th>created</th>\n",
       "      <td>0.074560</td>\n",
       "      <td>0.056829</td>\n",
       "      <td>1.000000</td>\n",
       "    </tr>\n",
       "  </tbody>\n",
       "</table>\n",
       "</div>"
      ],
      "text/plain": [
       "              score  comms_num   created\n",
       "score      1.000000   0.199751  0.074560\n",
       "comms_num  0.199751   1.000000  0.056829\n",
       "created    0.074560   0.056829  1.000000"
      ]
     },
     "execution_count": 34,
     "metadata": {},
     "output_type": "execute_result"
    }
   ],
   "source": [
    "#which features correlate, is there collinear features?\n",
    "#make sure datetime data is properly changed to float64 and included. \n",
    "\n",
    "wall.corr().T"
   ]
  },
  {
   "cell_type": "code",
   "execution_count": 35,
   "metadata": {},
   "outputs": [
    {
     "data": {
      "text/plain": [
       "<matplotlib.axes._subplots.AxesSubplot at 0x25d5c8b11d0>"
      ]
     },
     "execution_count": 35,
     "metadata": {},
     "output_type": "execute_result"
    },
    {
     "data": {
      "image/png": "[encoded data removed]",
      "text/plain": [
       "<Figure size 1440x1440 with 2 Axes>"
      ]
     },
     "metadata": {},
     "output_type": "display_data"
    }
   ],
   "source": [
    "#visualize correlation of data\n",
    "\n",
    "plt.rcParams['figure.figsize'] = (20, 20)\n",
    "sns.heatmap(wall.corr(), cmap = 'Greens_r', annot = True)"
   ]
  },
  {
   "cell_type": "code",
   "execution_count": 36,
   "metadata": {},
   "outputs": [
    {
     "data": {
      "text/html": [
       "<div>\n",
       "<style scoped>\n",
       "    .dataframe tbody tr th:only-of-type {\n",
       "        vertical-align: middle;\n",
       "    }\n",
       "\n",
       "    .dataframe tbody tr th {\n",
       "        vertical-align: top;\n",
       "    }\n",
       "\n",
       "    .dataframe thead th {\n",
       "        text-align: right;\n",
       "    }\n",
       "</style>\n",
       "<table border=\"1\" class=\"dataframe\">\n",
       "  <thead>\n",
       "    <tr style=\"text-align: right;\">\n",
       "      <th></th>\n",
       "      <th>score</th>\n",
       "      <th>comms_num</th>\n",
       "      <th>created</th>\n",
       "    </tr>\n",
       "  </thead>\n",
       "  <tbody>\n",
       "    <tr>\n",
       "      <th>count</th>\n",
       "      <td>37155.000000</td>\n",
       "      <td>37155.000000</td>\n",
       "      <td>3.715500e+04</td>\n",
       "    </tr>\n",
       "    <tr>\n",
       "      <th>mean</th>\n",
       "      <td>1250.119526</td>\n",
       "      <td>169.005679</td>\n",
       "      <td>1.612355e+09</td>\n",
       "    </tr>\n",
       "    <tr>\n",
       "      <th>std</th>\n",
       "      <td>8299.838243</td>\n",
       "      <td>2189.722472</td>\n",
       "      <td>6.940441e+05</td>\n",
       "    </tr>\n",
       "    <tr>\n",
       "      <th>min</th>\n",
       "      <td>0.000000</td>\n",
       "      <td>0.000000</td>\n",
       "      <td>1.601340e+09</td>\n",
       "    </tr>\n",
       "    <tr>\n",
       "      <th>25%</th>\n",
       "      <td>1.000000</td>\n",
       "      <td>1.000000</td>\n",
       "      <td>1.611879e+09</td>\n",
       "    </tr>\n",
       "    <tr>\n",
       "      <th>50%</th>\n",
       "      <td>16.000000</td>\n",
       "      <td>9.000000</td>\n",
       "      <td>1.612060e+09</td>\n",
       "    </tr>\n",
       "    <tr>\n",
       "      <th>75%</th>\n",
       "      <td>142.000000</td>\n",
       "      <td>39.000000</td>\n",
       "      <td>1.612537e+09</td>\n",
       "    </tr>\n",
       "    <tr>\n",
       "      <th>max</th>\n",
       "      <td>348241.000000</td>\n",
       "      <td>89050.000000</td>\n",
       "      <td>1.614697e+09</td>\n",
       "    </tr>\n",
       "  </tbody>\n",
       "</table>\n",
       "</div>"
      ],
      "text/plain": [
       "               score     comms_num       created\n",
       "count   37155.000000  37155.000000  3.715500e+04\n",
       "mean     1250.119526    169.005679  1.612355e+09\n",
       "std      8299.838243   2189.722472  6.940441e+05\n",
       "min         0.000000      0.000000  1.601340e+09\n",
       "25%         1.000000      1.000000  1.611879e+09\n",
       "50%        16.000000      9.000000  1.612060e+09\n",
       "75%       142.000000     39.000000  1.612537e+09\n",
       "max    348241.000000  89050.000000  1.614697e+09"
      ]
     },
     "execution_count": 36,
     "metadata": {},
     "output_type": "execute_result"
    }
   ],
   "source": [
    "#Statistical Tests\n",
    "wall.describe()"
   ]
  },
  {
   "cell_type": "markdown",
   "metadata": {},
   "source": [
    "# 1. Analyzed trends in Reddit WallStreetBets Posts"
   ]
  },
  {
   "cell_type": "markdown",
   "metadata": {},
   "source": [
    "Understanding Frequency and Popularity"
   ]
  },
  {
   "cell_type": "code",
   "execution_count": 12,
   "metadata": {},
   "outputs": [
    {
     "data": {
      "text/plain": [
       "AMC              39\n",
       "Robinhood        25\n",
       "HOLD THE LINE    20\n",
       "HOLD             16\n",
       "NOK              15\n",
       "Name: title, dtype: int64"
      ]
     },
     "execution_count": 12,
     "metadata": {},
     "output_type": "execute_result"
    }
   ],
   "source": [
    "#iterate over 'title' find consistent topics and aggregate them \n",
    "#Use pandas' Series method `value_counts` to find any duplicated names\n",
    "\n",
    "wall['title'].value_counts().head()"
   ]
  },
  {
   "cell_type": "code",
   "execution_count": 13,
   "metadata": {},
   "outputs": [
    {
     "data": {
      "image/png": "[encoded data removed]",
      "text/plain": [
       "<Figure size 432x288 with 1 Axes>"
      ]
     },
     "metadata": {},
     "output_type": "display_data"
    }
   ],
   "source": [
    "#Graph the most mentioned title \n",
    "\n",
    "wall['title'].value_counts().head().plot(kind='bar',color=['black', 'red', 'green', 'blue', 'cyan']);"
   ]
  },
  {
   "cell_type": "code",
   "execution_count": 14,
   "metadata": {},
   "outputs": [
    {
     "name": "stdout",
     "output_type": "stream",
     "text": [
      "                                                   title   score      id  \\\n",
      "19162                             Times Square right now  348241  l8rf4k   \n",
      "16009                      GME YOLO update — Jan 28 2021  225870  l78uct   \n",
      "17771               GME YOLO month-end update — Jan 2021  219779  l846a1   \n",
      "34179                      GME YOLO update — Feb 19 2021  201168  lnqgz8   \n",
      "18273                                  It’s treason then  195782  l881ia   \n",
      "18069  Used some of my GME tendies to buy Nintendo Sw...  192980  l8c0u4   \n",
      "32168                   Wow super bowl commercial for us  191380  lexy8t   \n",
      "18230                              That’s what I thought  175665  l890i7   \n",
      "16220                      IT'S POWER TO THE TRADERS NOW  174401  l7feld   \n",
      "18826  I am proud to do my part in paying forward our...  171778  l90oq6   \n",
      "\n",
      "                                                     url  comms_num  \\\n",
      "19162                    https://v.redd.it/x64z70f7eie61      11554   \n",
      "16009                https://i.redd.it/opzucppb15e61.png      23309   \n",
      "17771                https://i.redd.it/r557em3t5ce61.png      20105   \n",
      "34179                https://i.redd.it/2xswz0h11ii61.png      12846   \n",
      "18273                https://i.redd.it/d3t66lv1yce61.jpg       4523   \n",
      "18069  https://www.nbcdfw.com/news/local/north-texas-...       6785   \n",
      "32168                https://i.redd.it/tko5nh1qy4g61.jpg       3849   \n",
      "18230                https://i.redd.it/f2yhugwt5de61.jpg       4603   \n",
      "16220                    https://v.redd.it/lu8aekujd6e61       5211   \n",
      "18826                https://i.redd.it/sgrbt9vthke61.jpg       3633   \n",
      "\n",
      "            created body            timestamp      Time        Date  \n",
      "19162  1.612058e+09  NaN  2021-01-31 04:00:38  04:00:38  2021-01-31  \n",
      "16009  1.611897e+09  NaN  2021-01-29 07:06:23  07:06:23  2021-01-29  \n",
      "17771  1.611983e+09  NaN  2021-01-30 07:04:45  07:04:45  2021-01-30  \n",
      "34179  1.613798e+09  NaN  2021-02-20 07:05:55  07:05:55  2021-02-20  \n",
      "18273  1.611992e+09  NaN  2021-01-30 09:40:59  09:40:59  2021-01-30  \n",
      "18069  1.612004e+09  NaN  2021-01-30 12:53:40  12:53:40  2021-01-30  \n",
      "32168  1.612768e+09  NaN  2021-02-08 08:58:50  08:58:50  2021-02-08  \n",
      "18230  1.611995e+09  NaN  2021-01-30 10:24:35  10:24:35  2021-01-30  \n",
      "16220  1.611913e+09  NaN  2021-01-29 11:35:58  11:35:58  2021-01-29  \n",
      "18826  1.612084e+09  NaN  2021-01-31 11:04:23  11:04:23  2021-01-31  \n"
     ]
    }
   ],
   "source": [
    "#See which topics scored the highest, top 10 scores\n",
    "\n",
    "top_10_score = wall.nlargest(10,['score'])\n",
    "print(top_10_score)"
   ]
  },
  {
   "cell_type": "code",
   "execution_count": 2,
   "metadata": {},
   "outputs": [
    {
     "ename": "SyntaxError",
     "evalue": "invalid syntax (<ipython-input-2-c5038d2299ab>, line 3)",
     "output_type": "error",
     "traceback": [
      "\u001b[1;36m  File \u001b[1;32m\"<ipython-input-2-c5038d2299ab>\"\u001b[1;36m, line \u001b[1;32m3\u001b[0m\n\u001b[1;33m    print(top_10_score_body)\u001b[0m\n\u001b[1;37m        ^\u001b[0m\n\u001b[1;31mSyntaxError\u001b[0m\u001b[1;31m:\u001b[0m invalid syntax\n"
     ]
    }
   ],
   "source": [
    "#find the top 10 scored posts that have a \"body\"\n",
    "\n",
    "top_10_score_body = wall.nlargest(10,['score'] & wall.nlargest(10,['body'!= 'NaN'])                            \n",
    "print(top_10_score_body)                                  "
   ]
  },
  {
   "cell_type": "code",
   "execution_count": 4,
   "metadata": {},
   "outputs": [
    {
     "data": {
      "image/png": "[encoded data removed]",
      "text/plain": [
       "<Figure size 432x288 with 1 Axes>"
      ]
     },
     "metadata": {},
     "output_type": "display_data"
    }
   ],
   "source": [
    "# Graph the top 10 posts with bodies of texts \n",
    "\n",
    "wall['title'].value_counts().head().plot(kind='bar',color=['black', 'red', 'green', 'blue', 'cyan']);"
   ]
  },
  {
   "cell_type": "code",
   "execution_count": 3,
   "metadata": {},
   "outputs": [
    {
     "ename": "ValueError",
     "evalue": "We need at least 1 word to plot a word cloud, got 0.",
     "output_type": "error",
     "traceback": [
      "\u001b[1;31m---------------------------------------------------------------------------\u001b[0m",
      "\u001b[1;31mValueError\u001b[0m                                Traceback (most recent call last)",
      "\u001b[1;32m<ipython-input-3-80e61c1e5677>\u001b[0m in \u001b[0;36m<module>\u001b[1;34m()\u001b[0m\n\u001b[0;32m      3\u001b[0m \u001b[1;31m#my_stopwords\u001b[0m\u001b[1;33m\u001b[0m\u001b[1;33m\u001b[0m\u001b[0m\n\u001b[0;32m      4\u001b[0m \u001b[1;33m\u001b[0m\u001b[0m\n\u001b[1;32m----> 5\u001b[1;33m \u001b[0mtitle_wc\u001b[0m \u001b[1;33m=\u001b[0m \u001b[0mWordCloud\u001b[0m\u001b[1;33m(\u001b[0m\u001b[0mstopwords\u001b[0m \u001b[1;33m=\u001b[0m \u001b[0mwall\u001b[0m\u001b[1;33m,\u001b[0m \u001b[0mbackground_color\u001b[0m\u001b[1;33m=\u001b[0m\u001b[1;34m'white'\u001b[0m\u001b[1;33m,\u001b[0m \u001b[0mcollocations\u001b[0m \u001b[1;33m=\u001b[0m \u001b[1;32mFalse\u001b[0m\u001b[1;33m)\u001b[0m\u001b[1;33m.\u001b[0m\u001b[0mgenerate\u001b[0m\u001b[1;33m(\u001b[0m\u001b[1;34m'title'\u001b[0m\u001b[1;33m)\u001b[0m\u001b[1;33m\u001b[0m\u001b[0m\n\u001b[0m\u001b[0;32m      6\u001b[0m \u001b[0mplt\u001b[0m\u001b[1;33m.\u001b[0m\u001b[0mfigure\u001b[0m\u001b[1;33m(\u001b[0m\u001b[0mfigsize\u001b[0m\u001b[1;33m=\u001b[0m\u001b[1;33m(\u001b[0m\u001b[1;36m12\u001b[0m\u001b[1;33m,\u001b[0m\u001b[1;36m10\u001b[0m\u001b[1;33m)\u001b[0m\u001b[1;33m)\u001b[0m\u001b[1;33m\u001b[0m\u001b[0m\n\u001b[0;32m      7\u001b[0m \u001b[0mplt\u001b[0m\u001b[1;33m.\u001b[0m\u001b[0mimshow\u001b[0m\u001b[1;33m(\u001b[0m\u001b[0mtitle_wc\u001b[0m\u001b[1;33m,\u001b[0m \u001b[0minterpolation\u001b[0m\u001b[1;33m=\u001b[0m\u001b[1;34m'bilinear'\u001b[0m\u001b[1;33m)\u001b[0m\u001b[1;33m\u001b[0m\u001b[0m\n",
      "\u001b[1;32mC:\\dev\\lib\\site-packages\\wordcloud\\wordcloud.py\u001b[0m in \u001b[0;36mgenerate\u001b[1;34m(self, text)\u001b[0m\n\u001b[0;32m    630\u001b[0m         \u001b[0mself\u001b[0m\u001b[1;33m\u001b[0m\u001b[0m\n\u001b[0;32m    631\u001b[0m         \"\"\"\n\u001b[1;32m--> 632\u001b[1;33m         \u001b[1;32mreturn\u001b[0m \u001b[0mself\u001b[0m\u001b[1;33m.\u001b[0m\u001b[0mgenerate_from_text\u001b[0m\u001b[1;33m(\u001b[0m\u001b[0mtext\u001b[0m\u001b[1;33m)\u001b[0m\u001b[1;33m\u001b[0m\u001b[0m\n\u001b[0m\u001b[0;32m    633\u001b[0m \u001b[1;33m\u001b[0m\u001b[0m\n\u001b[0;32m    634\u001b[0m     \u001b[1;32mdef\u001b[0m \u001b[0m_check_generated\u001b[0m\u001b[1;33m(\u001b[0m\u001b[0mself\u001b[0m\u001b[1;33m)\u001b[0m\u001b[1;33m:\u001b[0m\u001b[1;33m\u001b[0m\u001b[0m\n",
      "\u001b[1;32mC:\\dev\\lib\\site-packages\\wordcloud\\wordcloud.py\u001b[0m in \u001b[0;36mgenerate_from_text\u001b[1;34m(self, text)\u001b[0m\n\u001b[0;32m    612\u001b[0m         \"\"\"\n\u001b[0;32m    613\u001b[0m         \u001b[0mwords\u001b[0m \u001b[1;33m=\u001b[0m \u001b[0mself\u001b[0m\u001b[1;33m.\u001b[0m\u001b[0mprocess_text\u001b[0m\u001b[1;33m(\u001b[0m\u001b[0mtext\u001b[0m\u001b[1;33m)\u001b[0m\u001b[1;33m\u001b[0m\u001b[0m\n\u001b[1;32m--> 614\u001b[1;33m         \u001b[0mself\u001b[0m\u001b[1;33m.\u001b[0m\u001b[0mgenerate_from_frequencies\u001b[0m\u001b[1;33m(\u001b[0m\u001b[0mwords\u001b[0m\u001b[1;33m)\u001b[0m\u001b[1;33m\u001b[0m\u001b[0m\n\u001b[0m\u001b[0;32m    615\u001b[0m         \u001b[1;32mreturn\u001b[0m \u001b[0mself\u001b[0m\u001b[1;33m\u001b[0m\u001b[0m\n\u001b[0;32m    616\u001b[0m \u001b[1;33m\u001b[0m\u001b[0m\n",
      "\u001b[1;32mC:\\dev\\lib\\site-packages\\wordcloud\\wordcloud.py\u001b[0m in \u001b[0;36mgenerate_from_frequencies\u001b[1;34m(self, frequencies, max_font_size)\u001b[0m\n\u001b[0;32m    402\u001b[0m         \u001b[1;32mif\u001b[0m \u001b[0mlen\u001b[0m\u001b[1;33m(\u001b[0m\u001b[0mfrequencies\u001b[0m\u001b[1;33m)\u001b[0m \u001b[1;33m<=\u001b[0m \u001b[1;36m0\u001b[0m\u001b[1;33m:\u001b[0m\u001b[1;33m\u001b[0m\u001b[0m\n\u001b[0;32m    403\u001b[0m             raise ValueError(\"We need at least 1 word to plot a word cloud, \"\n\u001b[1;32m--> 404\u001b[1;33m                              \"got %d.\" % len(frequencies))\n\u001b[0m\u001b[0;32m    405\u001b[0m         \u001b[0mfrequencies\u001b[0m \u001b[1;33m=\u001b[0m \u001b[0mfrequencies\u001b[0m\u001b[1;33m[\u001b[0m\u001b[1;33m:\u001b[0m\u001b[0mself\u001b[0m\u001b[1;33m.\u001b[0m\u001b[0mmax_words\u001b[0m\u001b[1;33m]\u001b[0m\u001b[1;33m\u001b[0m\u001b[0m\n\u001b[0;32m    406\u001b[0m \u001b[1;33m\u001b[0m\u001b[0m\n",
      "\u001b[1;31mValueError\u001b[0m: We need at least 1 word to plot a word cloud, got 0."
     ]
    }
   ],
   "source": [
    "#frequency analysis of words in title using Word Cloud\n",
    "#code from wallstreet project on kaggle\n",
    "#my_stopwords\n",
    "\n",
    "title_wc = WordCloud(stopwords = wall, background_color='white', collocations = False).generate('title')\n",
    "plt.figure(figsize=(12,10))\n",
    "plt.imshow(title_wc, interpolation='bilinear')\n",
    "plt.title('Most common words used in WSB Title', fontsize = 20)\n",
    "plt.axis('off')"
   ]
  },
  {
   "cell_type": "markdown",
   "metadata": {},
   "source": [
    "Save output"
   ]
  },
  {
   "cell_type": "code",
   "execution_count": 37,
   "metadata": {},
   "outputs": [
    {
     "ename": "NameError",
     "evalue": "name 'df' is not defined",
     "output_type": "error",
     "traceback": [
      "\u001b[1;31m---------------------------------------------------------------------------\u001b[0m",
      "\u001b[1;31mNameError\u001b[0m                                 Traceback (most recent call last)",
      "\u001b[1;32m<ipython-input-37-06674e4c7dbf>\u001b[0m in \u001b[0;36m<module>\u001b[1;34m()\u001b[0m\n\u001b[1;32m----> 1\u001b[1;33m \u001b[0mdf\u001b[0m\u001b[1;33m.\u001b[0m\u001b[0mto_csv\u001b[0m\u001b[1;33m(\u001b[0m\u001b[1;34m'output.csv'\u001b[0m\u001b[1;33m)\u001b[0m\u001b[1;33m\u001b[0m\u001b[0m\n\u001b[0m",
      "\u001b[1;31mNameError\u001b[0m: name 'df' is not defined"
     ]
    }
   ],
   "source": [
    "df.to_csv('output.csv')"
   ]
  }
 ],
 "metadata": {
  "kernelspec": {
   "display_name": "Python 3",
   "language": "python",
   "name": "python3"
  },
  "language_info": {
   "codemirror_mode": {
    "name": "ipython",
    "version": 3
   },
   "file_extension": ".py",
   "mimetype": "text/x-python",
   "name": "python",
   "nbconvert_exporter": "python",
   "pygments_lexer": "ipython3",
   "version": "3.6.5"
  }
 },
 "nbformat": 4,
 "nbformat_minor": 2
}
