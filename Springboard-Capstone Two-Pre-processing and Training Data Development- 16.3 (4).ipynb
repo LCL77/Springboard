{
 "cells": [
  {
   "cell_type": "markdown",
   "metadata": {},
   "source": [
    "# Capstone Two\n"
   ]
  },
  {
   "cell_type": "code",
   "execution_count": 74,
   "metadata": {},
   "outputs": [],
   "source": [
    "import pandas as pd\n",
    "import matplotlib as plt\n",
    "import seaborn as sns\n",
    "import os\n",
    "\n",
    "import pandas as pd\n",
    "import os\n",
    "import pickle\n",
    "import numpy as np \n",
    "import json\n",
    "import statistics\n",
    "\n",
    "from sklearn.neighbors import KNeighborsClassifier \n",
    "from sklearn.model_selection import train_test_split \n",
    "from sklearn.datasets import load_iris \n",
    "from sklearn import datasets, linear_model\n",
    "from matplotlib import pyplot as plt\n",
    "\n",
    "\n",
    "data_2020= pd.read_csv('2020.csv')"
   ]
  },
  {
   "cell_type": "markdown",
   "metadata": {},
   "source": [
    "# Create Dummy Variables "
   ]
  },
  {
   "cell_type": "code",
   "execution_count": 75,
   "metadata": {},
   "outputs": [],
   "source": [
    "#create dummy variables for categorical variables \n",
    "#select all the columns that are categorical, ‘object’, creating a data frame subset \n",
    "dummy = pd.get_dummies(data_2020['Country name'])\n",
    "dummy2 = pd.get_dummies(data_2020['Regional indicator'])"
   ]
  },
  {
   "cell_type": "code",
   "execution_count": 76,
   "metadata": {},
   "outputs": [
    {
     "data": {
      "text/html": [
       "<div>\n",
       "<style scoped>\n",
       "    .dataframe tbody tr th:only-of-type {\n",
       "        vertical-align: middle;\n",
       "    }\n",
       "\n",
       "    .dataframe tbody tr th {\n",
       "        vertical-align: top;\n",
       "    }\n",
       "\n",
       "    .dataframe thead th {\n",
       "        text-align: right;\n",
       "    }\n",
       "</style>\n",
       "<table border=\"1\" class=\"dataframe\">\n",
       "  <thead>\n",
       "    <tr style=\"text-align: right;\">\n",
       "      <th></th>\n",
       "      <th>Afghanistan</th>\n",
       "      <th>Albania</th>\n",
       "      <th>Algeria</th>\n",
       "      <th>Argentina</th>\n",
       "      <th>Armenia</th>\n",
       "      <th>Australia</th>\n",
       "      <th>Austria</th>\n",
       "      <th>Azerbaijan</th>\n",
       "      <th>Bahrain</th>\n",
       "      <th>Bangladesh</th>\n",
       "      <th>...</th>\n",
       "      <th>United Arab Emirates</th>\n",
       "      <th>United Kingdom</th>\n",
       "      <th>United States</th>\n",
       "      <th>Uruguay</th>\n",
       "      <th>Uzbekistan</th>\n",
       "      <th>Venezuela</th>\n",
       "      <th>Vietnam</th>\n",
       "      <th>Yemen</th>\n",
       "      <th>Zambia</th>\n",
       "      <th>Zimbabwe</th>\n",
       "    </tr>\n",
       "  </thead>\n",
       "  <tbody>\n",
       "    <tr>\n",
       "      <th>0</th>\n",
       "      <td>0</td>\n",
       "      <td>0</td>\n",
       "      <td>0</td>\n",
       "      <td>0</td>\n",
       "      <td>0</td>\n",
       "      <td>0</td>\n",
       "      <td>0</td>\n",
       "      <td>0</td>\n",
       "      <td>0</td>\n",
       "      <td>0</td>\n",
       "      <td>...</td>\n",
       "      <td>0</td>\n",
       "      <td>0</td>\n",
       "      <td>0</td>\n",
       "      <td>0</td>\n",
       "      <td>0</td>\n",
       "      <td>0</td>\n",
       "      <td>0</td>\n",
       "      <td>0</td>\n",
       "      <td>0</td>\n",
       "      <td>0</td>\n",
       "    </tr>\n",
       "    <tr>\n",
       "      <th>1</th>\n",
       "      <td>0</td>\n",
       "      <td>0</td>\n",
       "      <td>0</td>\n",
       "      <td>0</td>\n",
       "      <td>0</td>\n",
       "      <td>0</td>\n",
       "      <td>0</td>\n",
       "      <td>0</td>\n",
       "      <td>0</td>\n",
       "      <td>0</td>\n",
       "      <td>...</td>\n",
       "      <td>0</td>\n",
       "      <td>0</td>\n",
       "      <td>0</td>\n",
       "      <td>0</td>\n",
       "      <td>0</td>\n",
       "      <td>0</td>\n",
       "      <td>0</td>\n",
       "      <td>0</td>\n",
       "      <td>0</td>\n",
       "      <td>0</td>\n",
       "    </tr>\n",
       "    <tr>\n",
       "      <th>2</th>\n",
       "      <td>0</td>\n",
       "      <td>0</td>\n",
       "      <td>0</td>\n",
       "      <td>0</td>\n",
       "      <td>0</td>\n",
       "      <td>0</td>\n",
       "      <td>0</td>\n",
       "      <td>0</td>\n",
       "      <td>0</td>\n",
       "      <td>0</td>\n",
       "      <td>...</td>\n",
       "      <td>0</td>\n",
       "      <td>0</td>\n",
       "      <td>0</td>\n",
       "      <td>0</td>\n",
       "      <td>0</td>\n",
       "      <td>0</td>\n",
       "      <td>0</td>\n",
       "      <td>0</td>\n",
       "      <td>0</td>\n",
       "      <td>0</td>\n",
       "    </tr>\n",
       "    <tr>\n",
       "      <th>3</th>\n",
       "      <td>0</td>\n",
       "      <td>0</td>\n",
       "      <td>0</td>\n",
       "      <td>0</td>\n",
       "      <td>0</td>\n",
       "      <td>0</td>\n",
       "      <td>0</td>\n",
       "      <td>0</td>\n",
       "      <td>0</td>\n",
       "      <td>0</td>\n",
       "      <td>...</td>\n",
       "      <td>0</td>\n",
       "      <td>0</td>\n",
       "      <td>0</td>\n",
       "      <td>0</td>\n",
       "      <td>0</td>\n",
       "      <td>0</td>\n",
       "      <td>0</td>\n",
       "      <td>0</td>\n",
       "      <td>0</td>\n",
       "      <td>0</td>\n",
       "    </tr>\n",
       "    <tr>\n",
       "      <th>4</th>\n",
       "      <td>0</td>\n",
       "      <td>0</td>\n",
       "      <td>0</td>\n",
       "      <td>0</td>\n",
       "      <td>0</td>\n",
       "      <td>0</td>\n",
       "      <td>0</td>\n",
       "      <td>0</td>\n",
       "      <td>0</td>\n",
       "      <td>0</td>\n",
       "      <td>...</td>\n",
       "      <td>0</td>\n",
       "      <td>0</td>\n",
       "      <td>0</td>\n",
       "      <td>0</td>\n",
       "      <td>0</td>\n",
       "      <td>0</td>\n",
       "      <td>0</td>\n",
       "      <td>0</td>\n",
       "      <td>0</td>\n",
       "      <td>0</td>\n",
       "    </tr>\n",
       "  </tbody>\n",
       "</table>\n",
       "<p>5 rows × 153 columns</p>\n",
       "</div>"
      ],
      "text/plain": [
       "   Afghanistan  Albania  Algeria  Argentina  Armenia  Australia  Austria  \\\n",
       "0            0        0        0          0        0          0        0   \n",
       "1            0        0        0          0        0          0        0   \n",
       "2            0        0        0          0        0          0        0   \n",
       "3            0        0        0          0        0          0        0   \n",
       "4            0        0        0          0        0          0        0   \n",
       "\n",
       "   Azerbaijan  Bahrain  Bangladesh  ...  United Arab Emirates  United Kingdom  \\\n",
       "0           0        0           0  ...                     0               0   \n",
       "1           0        0           0  ...                     0               0   \n",
       "2           0        0           0  ...                     0               0   \n",
       "3           0        0           0  ...                     0               0   \n",
       "4           0        0           0  ...                     0               0   \n",
       "\n",
       "   United States  Uruguay  Uzbekistan  Venezuela  Vietnam  Yemen  Zambia  \\\n",
       "0              0        0           0          0        0      0       0   \n",
       "1              0        0           0          0        0      0       0   \n",
       "2              0        0           0          0        0      0       0   \n",
       "3              0        0           0          0        0      0       0   \n",
       "4              0        0           0          0        0      0       0   \n",
       "\n",
       "   Zimbabwe  \n",
       "0         0  \n",
       "1         0  \n",
       "2         0  \n",
       "3         0  \n",
       "4         0  \n",
       "\n",
       "[5 rows x 153 columns]"
      ]
     },
     "execution_count": 76,
     "metadata": {},
     "output_type": "execute_result"
    }
   ],
   "source": [
    "dummy.head()"
   ]
  },
  {
   "cell_type": "code",
   "execution_count": 77,
   "metadata": {},
   "outputs": [
    {
     "data": {
      "text/html": [
       "<div>\n",
       "<style scoped>\n",
       "    .dataframe tbody tr th:only-of-type {\n",
       "        vertical-align: middle;\n",
       "    }\n",
       "\n",
       "    .dataframe tbody tr th {\n",
       "        vertical-align: top;\n",
       "    }\n",
       "\n",
       "    .dataframe thead th {\n",
       "        text-align: right;\n",
       "    }\n",
       "</style>\n",
       "<table border=\"1\" class=\"dataframe\">\n",
       "  <thead>\n",
       "    <tr style=\"text-align: right;\">\n",
       "      <th></th>\n",
       "      <th>Central and Eastern Europe</th>\n",
       "      <th>Commonwealth of Independent States</th>\n",
       "      <th>East Asia</th>\n",
       "      <th>Latin America and Caribbean</th>\n",
       "      <th>Middle East and North Africa</th>\n",
       "      <th>North America and ANZ</th>\n",
       "      <th>South Asia</th>\n",
       "      <th>Southeast Asia</th>\n",
       "      <th>Sub-Saharan Africa</th>\n",
       "      <th>Western Europe</th>\n",
       "    </tr>\n",
       "  </thead>\n",
       "  <tbody>\n",
       "    <tr>\n",
       "      <th>0</th>\n",
       "      <td>0</td>\n",
       "      <td>0</td>\n",
       "      <td>0</td>\n",
       "      <td>0</td>\n",
       "      <td>0</td>\n",
       "      <td>0</td>\n",
       "      <td>0</td>\n",
       "      <td>0</td>\n",
       "      <td>0</td>\n",
       "      <td>1</td>\n",
       "    </tr>\n",
       "    <tr>\n",
       "      <th>1</th>\n",
       "      <td>0</td>\n",
       "      <td>0</td>\n",
       "      <td>0</td>\n",
       "      <td>0</td>\n",
       "      <td>0</td>\n",
       "      <td>0</td>\n",
       "      <td>0</td>\n",
       "      <td>0</td>\n",
       "      <td>0</td>\n",
       "      <td>1</td>\n",
       "    </tr>\n",
       "    <tr>\n",
       "      <th>2</th>\n",
       "      <td>0</td>\n",
       "      <td>0</td>\n",
       "      <td>0</td>\n",
       "      <td>0</td>\n",
       "      <td>0</td>\n",
       "      <td>0</td>\n",
       "      <td>0</td>\n",
       "      <td>0</td>\n",
       "      <td>0</td>\n",
       "      <td>1</td>\n",
       "    </tr>\n",
       "    <tr>\n",
       "      <th>3</th>\n",
       "      <td>0</td>\n",
       "      <td>0</td>\n",
       "      <td>0</td>\n",
       "      <td>0</td>\n",
       "      <td>0</td>\n",
       "      <td>0</td>\n",
       "      <td>0</td>\n",
       "      <td>0</td>\n",
       "      <td>0</td>\n",
       "      <td>1</td>\n",
       "    </tr>\n",
       "    <tr>\n",
       "      <th>4</th>\n",
       "      <td>0</td>\n",
       "      <td>0</td>\n",
       "      <td>0</td>\n",
       "      <td>0</td>\n",
       "      <td>0</td>\n",
       "      <td>0</td>\n",
       "      <td>0</td>\n",
       "      <td>0</td>\n",
       "      <td>0</td>\n",
       "      <td>1</td>\n",
       "    </tr>\n",
       "  </tbody>\n",
       "</table>\n",
       "</div>"
      ],
      "text/plain": [
       "   Central and Eastern Europe  Commonwealth of Independent States  East Asia  \\\n",
       "0                           0                                   0          0   \n",
       "1                           0                                   0          0   \n",
       "2                           0                                   0          0   \n",
       "3                           0                                   0          0   \n",
       "4                           0                                   0          0   \n",
       "\n",
       "   Latin America and Caribbean  Middle East and North Africa  \\\n",
       "0                            0                             0   \n",
       "1                            0                             0   \n",
       "2                            0                             0   \n",
       "3                            0                             0   \n",
       "4                            0                             0   \n",
       "\n",
       "   North America and ANZ  South Asia  Southeast Asia  Sub-Saharan Africa  \\\n",
       "0                      0           0               0                   0   \n",
       "1                      0           0               0                   0   \n",
       "2                      0           0               0                   0   \n",
       "3                      0           0               0                   0   \n",
       "4                      0           0               0                   0   \n",
       "\n",
       "   Western Europe  \n",
       "0               1  \n",
       "1               1  \n",
       "2               1  \n",
       "3               1  \n",
       "4               1  "
      ]
     },
     "execution_count": 77,
     "metadata": {},
     "output_type": "execute_result"
    }
   ],
   "source": [
    "dummy2.head()"
   ]
  },
  {
   "cell_type": "code",
   "execution_count": 78,
   "metadata": {},
   "outputs": [
    {
     "name": "stdout",
     "output_type": "stream",
     "text": [
      "  Country name Regional indicator  Ladder score  \\\n",
      "0      Finland     Western Europe        7.8087   \n",
      "1      Denmark     Western Europe        7.6456   \n",
      "2  Switzerland     Western Europe        7.5599   \n",
      "3      Iceland     Western Europe        7.5045   \n",
      "4       Norway     Western Europe        7.4880   \n",
      "\n",
      "   Standard error of ladder score  upperwhisker  lowerwhisker  \\\n",
      "0                        0.031156      7.869766      7.747634   \n",
      "1                        0.033492      7.711245      7.579955   \n",
      "2                        0.035014      7.628528      7.491272   \n",
      "3                        0.059616      7.621347      7.387653   \n",
      "4                        0.034837      7.556281      7.419719   \n",
      "\n",
      "   Logged GDP per capita  Social support  Healthy life expectancy  \\\n",
      "0              10.639267        0.954330                71.900825   \n",
      "1              10.774001        0.955991                72.402504   \n",
      "2              10.979933        0.942847                74.102448   \n",
      "3              10.772559        0.974670                73.000000   \n",
      "4              11.087804        0.952487                73.200783   \n",
      "\n",
      "   Freedom to make life choices  ...  United Arab Emirates  United Kingdom  \\\n",
      "0                      0.949172  ...                     0               0   \n",
      "1                      0.951444  ...                     0               0   \n",
      "2                      0.921337  ...                     0               0   \n",
      "3                      0.948892  ...                     0               0   \n",
      "4                      0.955750  ...                     0               0   \n",
      "\n",
      "   United States  Uruguay  Uzbekistan  Venezuela  Vietnam  Yemen  Zambia  \\\n",
      "0              0        0           0          0        0      0       0   \n",
      "1              0        0           0          0        0      0       0   \n",
      "2              0        0           0          0        0      0       0   \n",
      "3              0        0           0          0        0      0       0   \n",
      "4              0        0           0          0        0      0       0   \n",
      "\n",
      "   Zimbabwe  \n",
      "0         0  \n",
      "1         0  \n",
      "2         0  \n",
      "3         0  \n",
      "4         0  \n",
      "\n",
      "[5 rows x 183 columns]\n"
     ]
    }
   ],
   "source": [
    "#concatenate the original data frame df \n",
    "#Concat new columns to original dataframe \n",
    "df_concat = pd.concat([data_2020, dummy2, dummy], axis=1)\n",
    "print (df_concat.head())"
   ]
  },
  {
   "cell_type": "code",
   "execution_count": 79,
   "metadata": {},
   "outputs": [
    {
     "name": "stdout",
     "output_type": "stream",
     "text": [
      "   Ladder score  Standard error of ladder score  upperwhisker  lowerwhisker  \\\n",
      "0        7.8087                        0.031156      7.869766      7.747634   \n",
      "1        7.6456                        0.033492      7.711245      7.579955   \n",
      "2        7.5599                        0.035014      7.628528      7.491272   \n",
      "3        7.5045                        0.059616      7.621347      7.387653   \n",
      "4        7.4880                        0.034837      7.556281      7.419719   \n",
      "\n",
      "   Logged GDP per capita  Social support  Healthy life expectancy  \\\n",
      "0              10.639267        0.954330                71.900825   \n",
      "1              10.774001        0.955991                72.402504   \n",
      "2              10.979933        0.942847                74.102448   \n",
      "3              10.772559        0.974670                73.000000   \n",
      "4              11.087804        0.952487                73.200783   \n",
      "\n",
      "   Freedom to make life choices  Generosity  Perceptions of corruption  ...  \\\n",
      "0                      0.949172   -0.059482                   0.195445  ...   \n",
      "1                      0.951444    0.066202                   0.168489  ...   \n",
      "2                      0.921337    0.105911                   0.303728  ...   \n",
      "3                      0.948892    0.246944                   0.711710  ...   \n",
      "4                      0.955750    0.134533                   0.263218  ...   \n",
      "\n",
      "   United Arab Emirates  United Kingdom  United States  Uruguay  Uzbekistan  \\\n",
      "0                     0               0              0        0           0   \n",
      "1                     0               0              0        0           0   \n",
      "2                     0               0              0        0           0   \n",
      "3                     0               0              0        0           0   \n",
      "4                     0               0              0        0           0   \n",
      "\n",
      "   Venezuela  Vietnam  Yemen  Zambia  Zimbabwe  \n",
      "0          0        0      0       0         0  \n",
      "1          0        0      0       0         0  \n",
      "2          0        0      0       0         0  \n",
      "3          0        0      0       0         0  \n",
      "4          0        0      0       0         0  \n",
      "\n",
      "[5 rows x 181 columns]\n"
     ]
    }
   ],
   "source": [
    "#Drop corresponding categorical columns and first dummy variable columns.\n",
    "\n",
    "df_concat.drop(['Country name','Regional indicator'], inplace=True, axis=1)\n",
    "print(df_concat.head())"
   ]
  },
  {
   "cell_type": "code",
   "execution_count": 86,
   "metadata": {},
   "outputs": [
    {
     "name": "stdout",
     "output_type": "stream",
     "text": [
      "<class 'pandas.core.frame.DataFrame'>\n",
      "RangeIndex: 153 entries, 0 to 152\n",
      "Columns: 181 entries, Ladder score to Zimbabwe\n",
      "dtypes: float64(18), uint8(163)\n",
      "memory usage: 46.0 KB\n"
     ]
    }
   ],
   "source": [
    "#check info on data to check categorical variables are gone.\n",
    "\n",
    "df_concat.info()"
   ]
  },
  {
   "cell_type": "code",
   "execution_count": 90,
   "metadata": {},
   "outputs": [],
   "source": [
    "# saving the new dataframe\n",
    "df_concat.to_csv('concat_happiness.csv')"
   ]
  },
  {
   "cell_type": "markdown",
   "metadata": {},
   "source": [
    "# Split into testing and training datasets \n"
   ]
  },
  {
   "cell_type": "code",
   "execution_count": 62,
   "metadata": {},
   "outputs": [],
   "source": [
    "import pandas as pd\n",
    "from sklearn import datasets, linear_model\n",
    "from sklearn.model_selection import train_test_split\n",
    "from matplotlib import pyplot as plt\n",
    "import numpy as np\n",
    "\n",
    "#train_test_split()\n",
    "# spliting training and testing data\n",
    "#x= data, y=target dependent variable\n",
    "\n",
    "X = data_2020\n",
    "y = data_2020\n",
    "\n",
    "X_train, X_test, y_train, y_test = train_test_split(X,y,test_size=0.2,random_state=27)"
   ]
  },
  {
   "cell_type": "code",
   "execution_count": 63,
   "metadata": {},
   "outputs": [
    {
     "name": "stdout",
     "output_type": "stream",
     "text": [
      "shape of original dataset : (153, 20)\n",
      "shape of input - training set (122, 20)\n",
      "shape of output - training set (122, 20)\n",
      "shape of input - testing set (31, 20)\n",
      "shape of output - testing set (31, 20)\n"
     ]
    }
   ],
   "source": [
    "print(\"shape of original dataset :\", data_2020.shape)\n",
    "print(\"shape of input - training set\", X_train.shape)\n",
    "print(\"shape of output - training set\", y_train.shape)\n",
    "print(\"shape of input - testing set\", X_test.shape)\n",
    "print(\"shape of output - testing set\", y_test.shape)"
   ]
  },
  {
   "cell_type": "code",
   "execution_count": 24,
   "metadata": {},
   "outputs": [],
   "source": [
    "#train_test_split()\n",
    "# spliting training and testing data\n",
    "#x= data, y=target dependent variable\n",
    "\n",
    "X = all_happiness_data\n",
    "y = all_happiness_data.GDP\n",
    "\n",
    "X_train, X_test, y_train, y_test = train_test_split(X,y,test_size=0.2,random_state=27)"
   ]
  },
  {
   "cell_type": "code",
   "execution_count": 65,
   "metadata": {},
   "outputs": [
    {
     "name": "stdout",
     "output_type": "stream",
     "text": [
      "shape of original dataset : (153, 20)\n",
      "shape of input - training set (122, 20)\n",
      "shape of output - training set (122, 20)\n",
      "shape of input - testing set (31, 20)\n",
      "shape of output - testing set (31, 20)\n"
     ]
    }
   ],
   "source": [
    "print(\"shape of original dataset :\", data_2020.shape)\n",
    "print(\"shape of input - training set\", X_train.shape)\n",
    "print(\"shape of output - training set\", y_train.shape)\n",
    "print(\"shape of input - testing set\", X_test.shape)\n",
    "print(\"shape of output - testing set\", y_test.shape)"
   ]
  },
  {
   "cell_type": "code",
   "execution_count": 66,
   "metadata": {},
   "outputs": [
    {
     "name": "stdout",
     "output_type": "stream",
     "text": [
      "Ladder score                                   5.544606\n",
      "Standard error of ladder score                 0.051898\n",
      "upperwhisker                                   5.646325\n",
      "lowerwhisker                                   5.442887\n",
      "Logged GDP per capita                          9.361937\n",
      "Social support                                 0.816999\n",
      "Healthy life expectancy                       65.326383\n",
      "Freedom to make life choices                   0.794421\n",
      "Generosity                                    -0.014337\n",
      "Perceptions of corruption                      0.723100\n",
      "Ladder score in Dystopia                       1.972317\n",
      "Explained by: Log GDP per capita               0.889299\n",
      "Explained by: Social support                   1.175158\n",
      "Explained by: Healthy life expectancy          0.724581\n",
      "Explained by: Freedom to make life choices     0.476840\n",
      "Explained by: Generosity                       0.189528\n",
      "Explained by: Perceptions of corruption        0.137187\n",
      "Dystopia + residual                            1.952013\n",
      "dtype: float64\n"
     ]
    }
   ],
   "source": [
    "#what is the mean of training data\n",
    "\n",
    "print(X_train.mean())"
   ]
  },
  {
   "cell_type": "code",
   "execution_count": 67,
   "metadata": {},
   "outputs": [
    {
     "name": "stdout",
     "output_type": "stream",
     "text": [
      "Ladder score                                   5.544606\n",
      "Standard error of ladder score                 0.051898\n",
      "upperwhisker                                   5.646325\n",
      "lowerwhisker                                   5.442887\n",
      "Logged GDP per capita                          9.361937\n",
      "Social support                                 0.816999\n",
      "Healthy life expectancy                       65.326383\n",
      "Freedom to make life choices                   0.794421\n",
      "Generosity                                    -0.014337\n",
      "Perceptions of corruption                      0.723100\n",
      "Ladder score in Dystopia                       1.972317\n",
      "Explained by: Log GDP per capita               0.889299\n",
      "Explained by: Social support                   1.175158\n",
      "Explained by: Healthy life expectancy          0.724581\n",
      "Explained by: Freedom to make life choices     0.476840\n",
      "Explained by: Generosity                       0.189528\n",
      "Explained by: Perceptions of corruption        0.137187\n",
      "Dystopia + residual                            1.952013\n",
      "dtype: float64\n"
     ]
    }
   ],
   "source": [
    "print(y_train.mean())"
   ]
  },
  {
   "cell_type": "code",
   "execution_count": 32,
   "metadata": {},
   "outputs": [
    {
     "name": "stdout",
     "output_type": "stream",
     "text": [
      "Happiness Score                               1.115786e+00\n",
      "Standard error of ladder score                1.959381e-02\n",
      "upperwhisker                                  1.126050e+00\n",
      "lowerwhisker                                  1.160814e+00\n",
      "GDP                                           3.165449e+00\n",
      "Family                                        3.116965e-01\n",
      "Life Expectancy                               2.385765e+01\n",
      "Freedom                                       2.038308e-01\n",
      "Generosity                                    1.513460e-01\n",
      "Trust                                         2.557612e-01\n",
      "Ladder score in Dystopia                      2.675523e-15\n",
      "Explained by: Log GDP per capita              3.839834e-01\n",
      "Explained by: Social support                  2.965560e-01\n",
      "Explained by: Healthy life expectancy         2.534086e-01\n",
      "Explained by: Freedom to make life choices    1.412818e-01\n",
      "Explained by: Generosity                      9.946854e-02\n",
      "Explained by: Perceptions of corruption       1.157491e-01\n",
      "Dystopia + residual                           4.976373e-01\n",
      "Year                                          1.721961e+00\n",
      "Happiness Rank                                4.442417e+01\n",
      "Whisker.high                                  1.120777e+00\n",
      "Whisker.low                                   1.144050e+00\n",
      "Dystopia.Residual                             4.793611e-01\n",
      "Lower Confidence Interval                     1.114676e+00\n",
      "Upper Confidence Interval                     1.106210e+00\n",
      "Dystopia Residual                             5.743058e-01\n",
      "Standard Error                                1.746544e-02\n",
      "dtype: float64\n"
     ]
    }
   ],
   "source": [
    "#what is the STD of the training data\n",
    "\n",
    "print(X_train.std())"
   ]
  },
  {
   "cell_type": "code",
   "execution_count": 68,
   "metadata": {},
   "outputs": [
    {
     "name": "stdout",
     "output_type": "stream",
     "text": [
      "Ladder score                                  1.141086e+00\n",
      "Standard error of ladder score                1.680128e-02\n",
      "upperwhisker                                  1.129515e+00\n",
      "lowerwhisker                                  1.153481e+00\n",
      "Logged GDP per capita                         1.154128e+00\n",
      "Social support                                1.141562e-01\n",
      "Healthy life expectancy                       6.597897e+00\n",
      "Freedom to make life choices                  1.172909e-01\n",
      "Generosity                                    1.545184e-01\n",
      "Perceptions of corruption                     1.838787e-01\n",
      "Ladder score in Dystopia                      2.675523e-15\n",
      "Explained by: Log GDP per capita              3.577063e-01\n",
      "Explained by: Social support                  2.696304e-01\n",
      "Explained by: Healthy life expectancy         2.375346e-01\n",
      "Explained by: Freedom to make life choices    1.405788e-01\n",
      "Explained by: Generosity                      1.021932e-01\n",
      "Explained by: Perceptions of corruption       1.187177e-01\n",
      "Dystopia + residual                           5.639577e-01\n",
      "dtype: float64\n"
     ]
    }
   ],
   "source": [
    "print(y_train.std())"
   ]
  },
  {
   "cell_type": "markdown",
   "metadata": {},
   "source": [
    "# Standardize the magnitude of numeric features using a scale"
   ]
  },
  {
   "cell_type": "code",
   "execution_count": 88,
   "metadata": {},
   "outputs": [
    {
     "name": "stdout",
     "output_type": "stream",
     "text": [
      "[[ 2.10661952 -1.23498     2.09615988 ... -0.08111071 -0.08111071\n",
      "  -0.08111071]\n",
      " [ 1.9595007  -1.10608761  1.95115724 ... -0.08111071 -0.08111071\n",
      "  -0.08111071]\n",
      " [ 1.88219801 -1.02211458  1.87549456 ... -0.08111071 -0.08111071\n",
      "  -0.08111071]\n",
      " ...\n",
      " [-1.96101593  0.28338899 -1.97942562 ... -0.08111071 -0.08111071\n",
      "  12.32882801]\n",
      " [-2.39632821  2.98352683 -2.33313396 ... -0.08111071 -0.08111071\n",
      "  -0.08111071]\n",
      " [-2.62156135 -1.22642089 -2.6983315  ... -0.08111071 -0.08111071\n",
      "  -0.08111071]]\n"
     ]
    }
   ],
   "source": [
    "# the scaler object (model)\n",
    "scaler = StandardScaler()\n",
    "\n",
    "# fit and transform the data\n",
    "scaled_data = scaler.fit_transform(df_concat) \n",
    "\n",
    "print(scaled_data)"
   ]
  },
  {
   "cell_type": "code",
   "execution_count": 44,
   "metadata": {},
   "outputs": [
    {
     "data": {
      "text/plain": [
       "array([-6.03729122e-16,  2.55423859e-16, -4.64407017e-16, -4.64407017e-16,\n",
       "        0.00000000e+00, -7.89491929e-16,  2.32203508e-16,  0.00000000e+00,\n",
       "       -1.16101754e-17,  1.62542456e-16,  0.00000000e+00,  2.78644210e-16,\n",
       "       -3.71525613e-16,  1.39322105e-16,  5.57288420e-16,  2.84449298e-16,\n",
       "        0.00000000e+00,  6.26949473e-16])"
      ]
     },
     "execution_count": 44,
     "metadata": {},
     "output_type": "execute_result"
    }
   ],
   "source": [
    "#Verify that the mean of each feature (column) is 0:\n",
    "\n",
    "scaled_data.mean(axis = 0)\n",
    "#array([0., 0.])"
   ]
  },
  {
   "cell_type": "code",
   "execution_count": 47,
   "metadata": {},
   "outputs": [
    {
     "data": {
      "text/plain": [
       "array([1., 1., 1., 1., 1., 1., 1., 1., 1., 1., 0., 1., 1., 1., 1., 1., 1.,\n",
       "       1.])"
      ]
     },
     "execution_count": 47,
     "metadata": {},
     "output_type": "execute_result"
    }
   ],
   "source": [
    "#Verify that the std of each feature (column) is 1:\n",
    "\n",
    "scaled_data.std(axis = 0)\n",
    "#array([1., 1.])"
   ]
  },
  {
   "cell_type": "markdown",
   "metadata": {},
   "source": [
    "# Review the following questions and apply them to your dataset:\n",
    "\n",
    "- Does my data set have any categorical data, such as Gender or day of the week?\n",
    "\n",
    "Yes, Country and Region. \n",
    "\n",
    "- Do my features have data values that range from 0 - 100 or 0-1 or both and more? \n",
    "\n",
    "Yes, both. Features like GDP, Healthy life expectancy are 0-100, Ladder Score is 0-10, and Social Support, Genorosity and the majority of the other features are on a 0-1 scale. "
   ]
  }
 ],
 "metadata": {
  "kernelspec": {
   "display_name": "Python 3",
   "language": "python",
   "name": "python3"
  },
  "language_info": {
   "codemirror_mode": {
    "name": "ipython",
    "version": 3
   },
   "file_extension": ".py",
   "mimetype": "text/x-python",
   "name": "python",
   "nbconvert_exporter": "python",
   "pygments_lexer": "ipython3",
   "version": "3.6.5"
  }
 },
 "nbformat": 4,
 "nbformat_minor": 2
}
